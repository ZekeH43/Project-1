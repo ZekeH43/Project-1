{
 "cells": [
  {
   "cell_type": "code",
   "execution_count": 10,
   "id": "d00d60a1-1213-4370-9c80-5076ebea5aa5",
   "metadata": {
    "tags": []
   },
   "outputs": [],
   "source": [
    "#?pd.set_option"
   ]
  },
  {
   "cell_type": "code",
   "execution_count": 16,
   "id": "5204d11d-4dff-4bcb-b921-02e25daf6e62",
   "metadata": {
    "tags": []
   },
   "outputs": [
    {
     "name": "stdout",
     "output_type": "stream",
     "text": [
      "                                 Open        High         Low       Close  \\\n",
      "Date                                                                        \n",
      "2023-10-30 00:00:00-04:00  410.869995  417.660004  404.809998  411.609985   \n",
      "2023-10-31 00:00:00-04:00  404.500000  408.790009  392.299988  407.799988   \n",
      "2023-11-01 00:00:00-04:00  408.839996  423.809998  408.690002  423.250000   \n",
      "2023-11-02 00:00:00-04:00  433.279999  438.839996  428.940002  435.059998   \n",
      "2023-11-03 00:00:00-04:00  440.200012  453.089996  437.230011  450.049988   \n",
      "\n",
      "                             Volume  Dividends  Stock Splits  \n",
      "Date                                                          \n",
      "2023-10-30 00:00:00-04:00  38802800        0.0           0.0  \n",
      "2023-10-31 00:00:00-04:00  51796900        0.0           0.0  \n",
      "2023-11-01 00:00:00-04:00  43759300        0.0           0.0  \n",
      "2023-11-02 00:00:00-04:00  40917200        0.0           0.0  \n",
      "2023-11-03 00:00:00-04:00  42385500        0.0           0.0  \n"
     ]
    }
   ],
   "source": [
    "\n",
    "import yfinance as yahooFinance\n",
    " \n",
    "# in order to specify start date and \n",
    "# end date we need datetime package\n",
    "import datetime\n",
    " \n",
    "# startDate , as per our convenience we can modify\n",
    "startDate = datetime.datetime(2018, 11, 5)\n",
    " \n",
    "# endDate , as per our convenience we can modify\n",
    "endDate = datetime.datetime(2023, 11, 6)\n",
    "GetFacebookInformation = yahooFinance.Ticker(\"NVDA\")\n",
    " \n",
    "# pass the parameters as the taken dates for start and end\n",
    "print(GetFacebookInformation.history(start=startDate, \n",
    "                                     end=endDate).tail())"
   ]
  },
  {
   "cell_type": "code",
   "execution_count": null,
   "id": "276764e8-1bdc-4270-a007-258411bb1185",
   "metadata": {},
   "outputs": [],
   "source": []
  }
 ],
 "metadata": {
  "kernelspec": {
   "display_name": "Python 3 (ipykernel)",
   "language": "python",
   "name": "python3"
  },
  "language_info": {
   "codemirror_mode": {
    "name": "ipython",
    "version": 3
   },
   "file_extension": ".py",
   "mimetype": "text/x-python",
   "name": "python",
   "nbconvert_exporter": "python",
   "pygments_lexer": "ipython3",
   "version": "3.10.13"
  }
 },
 "nbformat": 4,
 "nbformat_minor": 5
}
