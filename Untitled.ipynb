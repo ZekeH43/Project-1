{
 "cells": [
  {
   "cell_type": "code",
   "execution_count": 2,
   "id": "2b86a668-d2f6-4bd6-a12b-fd1e824503f9",
   "metadata": {
    "tags": []
   },
   "outputs": [
    {
     "ename": "ModuleNotFoundError",
     "evalue": "No module named 'alpaca_trade_api'",
     "output_type": "error",
     "traceback": [
      "\u001b[1;31m---------------------------------------------------------------------------\u001b[0m",
      "\u001b[1;31mModuleNotFoundError\u001b[0m                       Traceback (most recent call last)",
      "Cell \u001b[1;32mIn[2], line 5\u001b[0m\n\u001b[0;32m      3\u001b[0m \u001b[38;5;28;01mimport\u001b[39;00m \u001b[38;5;21;01mrequests\u001b[39;00m\n\u001b[0;32m      4\u001b[0m \u001b[38;5;28;01mimport\u001b[39;00m \u001b[38;5;21;01mpandas\u001b[39;00m \u001b[38;5;28;01mas\u001b[39;00m \u001b[38;5;21;01mpd\u001b[39;00m\n\u001b[1;32m----> 5\u001b[0m \u001b[38;5;28;01mfrom\u001b[39;00m \u001b[38;5;21;01mMCForecastTools\u001b[39;00m \u001b[38;5;28;01mimport\u001b[39;00m MCSimulation\n\u001b[0;32m      6\u001b[0m \u001b[38;5;28;01mimport\u001b[39;00m \u001b[38;5;21;01mwarnings\u001b[39;00m\n\u001b[0;32m      7\u001b[0m \u001b[38;5;28;01mimport\u001b[39;00m \u001b[38;5;21;01mdatetime\u001b[39;00m\n",
      "File \u001b[1;32m~\\OneDrive\\Project 1\\Project-1\\MCForecastTools.py:5\u001b[0m\n\u001b[0;32m      3\u001b[0m \u001b[38;5;28;01mimport\u001b[39;00m \u001b[38;5;21;01mpandas\u001b[39;00m \u001b[38;5;28;01mas\u001b[39;00m \u001b[38;5;21;01mpd\u001b[39;00m\n\u001b[0;32m      4\u001b[0m \u001b[38;5;28;01mimport\u001b[39;00m \u001b[38;5;21;01mos\u001b[39;00m\n\u001b[1;32m----> 5\u001b[0m \u001b[38;5;28;01mimport\u001b[39;00m \u001b[38;5;21;01malpaca_trade_api\u001b[39;00m \u001b[38;5;28;01mas\u001b[39;00m \u001b[38;5;21;01mtradeapi\u001b[39;00m\n\u001b[0;32m      6\u001b[0m \u001b[38;5;28;01mimport\u001b[39;00m \u001b[38;5;21;01mdatetime\u001b[39;00m \u001b[38;5;28;01mas\u001b[39;00m \u001b[38;5;21;01mdt\u001b[39;00m\n\u001b[0;32m      7\u001b[0m \u001b[38;5;28;01mimport\u001b[39;00m \u001b[38;5;21;01mpytz\u001b[39;00m\n",
      "\u001b[1;31mModuleNotFoundError\u001b[0m: No module named 'alpaca_trade_api'"
     ]
    }
   ],
   "source": [
    "# Initial imports\n",
    "import os\n",
    "import requests\n",
    "import pandas as pd\n",
    "from MCForecastTools import MCSimulation\n",
    "import warnings\n",
    "import datetime\n",
    "import yfinance as yahooFinance\n",
    "\n",
    "%matplotlib inline"
   ]
  },
  {
   "cell_type": "code",
   "execution_count": null,
   "id": "8986e6f2-83ea-4c13-a4ec-d06d489b4ff7",
   "metadata": {
    "tags": []
   },
   "outputs": [],
   "source": [
    "# Read in stock data"
   ]
  },
  {
   "cell_type": "code",
   "execution_count": null,
   "id": "1d101dc4-4eb4-469e-a985-8c0844f22aa3",
   "metadata": {
    "tags": []
   },
   "outputs": [],
   "source": [
    "# Create a DF"
   ]
  },
  {
   "cell_type": "code",
   "execution_count": null,
   "id": "dcad5695-c3fe-4740-9bb5-4ec9d1017170",
   "metadata": {
    "tags": []
   },
   "outputs": [],
   "source": [
    "# Format current date as ISO format\n",
    "#today = pd.Timestamp('2023-10-18',tz='America/New_York').isoformat()\n",
    "\n",
    "# Set the tickers\n",
    "#tickers = [\"AGG\", \"SPY\"]\n",
    "\n",
    "# Set timeframe to \"1Day\" for Alpaca API\n",
    "#timeframe = \"1Day\"\n",
    "\n",
    "# Get current closing prices for SPY and AGG\n",
    "#df_ticker = alpaca.get_bars(tickers,timeframe,start=today).df\n",
    "# Reorganize the DataFrame\n",
    "\n",
    "# Separate ticker data\n",
    "#AGG = df_ticker[df_ticker[\"symbol\"]==\"AGG\"].drop(\"symbol\",axis=1)\n",
    "#SPY = df_ticker[df_ticker[\"symbol\"]==\"SPY\"].drop(\"symbol\",axis=1)\n",
    "\n",
    "\n",
    "\n",
    "# Concatenate the ticker DataFrames\n",
    "#df_ticker = pd.concat([AGG,SPY], axis=1, keys=[\"AGG\", \"SPY\"])\n",
    "#ticker_data = pd.concat([AGG, SPY],axis=1, keys=[\"AGG\", \"SPY\"])\n",
    "\n",
    "\n",
    "# Preview DataFrame\n",
    "#ticker_data.head()\n",
    "# YOUR CODE HERE!"
   ]
  }
 ],
 "metadata": {
  "kernelspec": {
   "display_name": "Python 3 (ipykernel)",
   "language": "python",
   "name": "python3"
  },
  "language_info": {
   "codemirror_mode": {
    "name": "ipython",
    "version": 3
   },
   "file_extension": ".py",
   "mimetype": "text/x-python",
   "name": "python",
   "nbconvert_exporter": "python",
   "pygments_lexer": "ipython3",
   "version": "3.10.13"
  }
 },
 "nbformat": 4,
 "nbformat_minor": 5
}
